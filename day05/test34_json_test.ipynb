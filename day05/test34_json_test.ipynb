{
 "cells": [
  {
   "cell_type": "markdown",
   "metadata": {},
   "source": [
    "## JSON Input/Output\n",
    "JSON 읽고 쓰기\n",
    "\n",
    "### Jason 포맷"
   ]
  },
  {
   "cell_type": "code",
   "execution_count": null,
   "metadata": {},
   "outputs": [],
   "source": [
    "# file : test34_json_test.ipynb\n",
    "# date : 20240202\n",
    "# desc : json 예제\n",
    "\n",
    "json_ex = '{\"name\":\"유왕권\",\"age\":\"26\"}'"
   ]
  },
  {
   "cell_type": "code",
   "execution_count": null,
   "metadata": {},
   "outputs": [],
   "source": [
    "import json"
   ]
  },
  {
   "cell_type": "code",
   "execution_count": null,
   "metadata": {},
   "outputs": [],
   "source": [
    "file = open('./car.json', mode = 'r', encoding = 'utf-8') # 최초에는 파일 IO 사용\n",
    "# ./ 하는 순간 해당 파일이 위치한 폴더의 모든 파일이 나타난다. ../ : 상위 폴더들의 위치\n",
    "data = json.load(file) # json 파일로 변환\n",
    "file.close()\n",
    "\n",
    "print(json.dumps(data, indent='\\t')) # 문자열로 변경, 파일에서의 형식과 똑같이 출력"
   ]
  },
  {
   "cell_type": "markdown",
   "metadata": {},
   "source": [
    "### JSON 사용\n",
    "파이썬의 딕셔너리와 사용방법이 동일"
   ]
  },
  {
   "cell_type": "code",
   "execution_count": null,
   "metadata": {},
   "outputs": [],
   "source": [
    "data['ferrari']['price'] # json 파일에서 false 였던 것이 파이썬으로 넘어오면서 False로 변환시켜준다."
   ]
  },
  {
   "cell_type": "code",
   "execution_count": null,
   "metadata": {},
   "outputs": [],
   "source": [
    "data['ferrari']['auto'] = True\n",
    "data"
   ]
  },
  {
   "cell_type": "markdown",
   "metadata": {},
   "source": [
    "### JSON 파일 쓰기"
   ]
  },
  {
   "cell_type": "code",
   "execution_count": null,
   "metadata": {},
   "outputs": [],
   "source": [
    "# json으로 만들 기본데이터 생성\n",
    "supercars = dict() # json은 딕셔너리랑 완전히 일치, 생성시도 딕셔너리로 생성\n",
    "\n",
    "audi = dict() # 내부데이터 딕셔너리\n",
    "audi['price'] = 300000000\n",
    "audi['year'] = '2024'\n",
    "audi['auto'] = True\n",
    "porsche = dict()\n",
    "porsche['price'] = 100000000\n",
    "porsche['year'] = '2017'\n",
    "porsche['auto'] = True\n",
    "\n",
    "supercars['audi'] = audi\n",
    "supercars['porsche'] = porsche\n",
    "\n",
    "supercars"
   ]
  },
  {
   "cell_type": "code",
   "execution_count": null,
   "metadata": {},
   "outputs": [],
   "source": [
    "## jason 파일쓰기\n",
    "\n",
    "f = open('./supercars.json', mode = 'w', encoding='utf-8')\n",
    "json.dump(supercars, f, indent='\\t', ensure_ascii=True)\n",
    "f.close()"
   ]
  },
  {
   "cell_type": "code",
   "execution_count": null,
   "metadata": {},
   "outputs": [],
   "source": [
    "## with -> 나는 클로즈를 내가 하고 싶지한다. 니(Python)가 해줘\n",
    "with open('./supercars2.json', mode = 'w', encoding='utf-8') as f2:\n",
    "    json.dump(supercars, f2, indent='\\t', ensure_ascii=True)"
   ]
  },
  {
   "cell_type": "code",
   "execution_count": null,
   "metadata": {},
   "outputs": [],
   "source": []
  },
  {
   "cell_type": "code",
   "execution_count": 59,
   "metadata": {},
   "outputs": [
    {
     "name": "stdout",
     "output_type": "stream",
     "text": [
      "{\n",
      "\"audi\": {\n",
      "\"price\": 300000000,\n",
      "\"year\": \"2024\",\n",
      "\"auto\": true\n",
      "},\n",
      "\"porsche\": {\n",
      "\"price\": 100000000,\n",
      "\"year\": \"2017\",\n",
      "\"auto\": true\n",
      "}\n",
      "}\n"
     ]
    }
   ],
   "source": [
    "## json 파일을 읽어옴. with문 사용\n",
    "with open('./supercars.json', mode = 'r', encoding='utf-8') as f3:\n",
    "    data2 = json.load(f3)\n",
    "\n",
    "print(json.dumps(data2, indent='\\t'))"
   ]
  }
 ],
 "metadata": {
  "kernelspec": {
   "display_name": "Python 3",
   "language": "python",
   "name": "python3"
  },
  "language_info": {
   "codemirror_mode": {
    "name": "ipython",
    "version": 3
   },
   "file_extension": ".py",
   "mimetype": "text/x-python",
   "name": "python",
   "nbconvert_exporter": "python",
   "pygments_lexer": "ipython3",
   "version": "3.11.5"
  }
 },
 "nbformat": 4,
 "nbformat_minor": 2
}
