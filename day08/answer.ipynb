{
 "cells": [
  {
   "cell_type": "markdown",
   "metadata": {},
   "source": [
    "## 1번 문제"
   ]
  },
  {
   "cell_type": "code",
   "execution_count": null,
   "metadata": {},
   "outputs": [
    {
     "name": "stdout",
     "output_type": "stream",
     "text": [
      "28.274333882308138\n"
     ]
    }
   ],
   "source": [
    "# 1번 문제\n",
    "import math\n",
    "radius = int(input('반지름의 값을 입력하세요 > '))\n",
    "print(f'원의 넓이는 {radius*radius*math.pi}')"
   ]
  },
  {
   "cell_type": "markdown",
   "metadata": {},
   "source": [
    "## 2번 문제"
   ]
  },
  {
   "cell_type": "code",
   "execution_count": 1,
   "metadata": {},
   "outputs": [],
   "source": [
    "# 2번 문제\n",
    "solar = {'Mercury' : '수성','Venus' : '금성', 'Earth' : '지구','Mars' : '화성','Jupiter' : '목성','Saturn' : '토성','Uranos' : '천왕성','Neptune' : '해왕성'}\n",
    "kname = input('행성이름(한글) 입력')\n",
    "print(solar[kname])"
   ]
  },
  {
   "cell_type": "markdown",
   "metadata": {},
   "source": [
    "## 3번 문제"
   ]
  },
  {
   "cell_type": "code",
   "execution_count": 2,
   "metadata": {},
   "outputs": [
    {
     "name": "stdout",
     "output_type": "stream",
     "text": [
      "단어 수 1\n",
      "hello "
     ]
    }
   ],
   "source": [
    "# 3번 문제 - 1\n",
    "sentence = input('영어문장 입력 > ')\n",
    "sentences = sentence.split(' ')\n",
    "print(f'단어 수 {len(sentences)}')\n",
    "\n",
    "num =1 \n",
    "for i in sentences:\n",
    "    if (num % 2 == 0):\n",
    "        print(i.upper(), end=' ')\n",
    "    else:\n",
    "        print(i, end=' ')\n",
    "    num += 1"
   ]
  },
  {
   "cell_type": "markdown",
   "metadata": {},
   "source": [
    "## 4번 문제"
   ]
  },
  {
   "cell_type": "code",
   "execution_count": 7,
   "metadata": {},
   "outputs": [
    {
     "name": "stdout",
     "output_type": "stream",
     "text": [
      "www.naver.com\n"
     ]
    }
   ],
   "source": [
    "# 4번 문제\n",
    "def get_url(name):\n",
    "    return f'www.{name}.com'\n",
    "\n",
    "inname = input('웹사이트 이름 입력 > ')\n",
    "url = get_url('naver')\n",
    "print(url)"
   ]
  },
  {
   "cell_type": "markdown",
   "metadata": {},
   "source": [
    "## 5번 문제"
   ]
  },
  {
   "cell_type": "code",
   "execution_count": 8,
   "metadata": {},
   "outputs": [
    {
     "name": "stdout",
     "output_type": "stream",
     "text": [
      "3 --> 3 6 9 12 15 18 21 24 27 "
     ]
    }
   ],
   "source": [
    "# 5번 문제\n",
    "dan_num = int(input('구구단 번호 입력 > '))\n",
    "\n",
    "print(dan_num, end=' --> ')\n",
    "for i in range(1,10):\n",
    "    print(dan_num * i, end = ' ')"
   ]
  }
 ],
 "metadata": {
  "kernelspec": {
   "display_name": "Python 3",
   "language": "python",
   "name": "python3"
  },
  "language_info": {
   "codemirror_mode": {
    "name": "ipython",
    "version": 3
   },
   "file_extension": ".py",
   "mimetype": "text/x-python",
   "name": "python",
   "nbconvert_exporter": "python",
   "pygments_lexer": "ipython3",
   "version": "3.11.5"
  }
 },
 "nbformat": 4,
 "nbformat_minor": 2
}
