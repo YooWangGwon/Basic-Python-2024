{
 "cells": [
  {
   "cell_type": "markdown",
   "metadata": {},
   "source": [
    "## 1번 문제"
   ]
  },
  {
   "cell_type": "code",
   "execution_count": 22,
   "metadata": {},
   "outputs": [
    {
     "name": "stdout",
     "output_type": "stream",
     "text": [
      "28.274333882308138\n"
     ]
    }
   ],
   "source": [
    "# 1번 문제\n",
    "import math\n",
    "radius = float(input('반지름의 값을 입력하세요 > '))\n",
    "print(radius * radius * math.pi)"
   ]
  },
  {
   "cell_type": "markdown",
   "metadata": {},
   "source": [
    "## 2번 문제"
   ]
  },
  {
   "cell_type": "code",
   "execution_count": 23,
   "metadata": {},
   "outputs": [
    {
     "name": "stdout",
     "output_type": "stream",
     "text": [
      "지구\n"
     ]
    }
   ],
   "source": [
    "# 2번 문제\n",
    "planet = {'Mercury' : '수성','Venus' : '금성', 'Earth' : '지구','Mars' : '화성','Jupiter' : '목성','Saturn' : '토성','Uranos' : '천왕성','Neptune' : '해왕성'}\n",
    "planet_eng_name = input('행성의 영어이름을 입력하세요 >')\n",
    "if planet_eng_name[0].isupper():\n",
    "    print(planet[planet_eng_name])\n",
    "else:\n",
    "    change = planet_eng_name.capitalize()\n",
    "    print(planet[change])"
   ]
  },
  {
   "cell_type": "markdown",
   "metadata": {},
   "source": [
    "## 3번 문제"
   ]
  },
  {
   "cell_type": "code",
   "execution_count": 18,
   "metadata": {},
   "outputs": [
    {
     "name": "stdout",
     "output_type": "stream",
     "text": [
      "문장의 단어 개수는 7입니다.\n",
      "I'm GOING to LEAVE the DOOR open. "
     ]
    }
   ],
   "source": [
    "# 3번 문제\n",
    "string_1 = \"I'm going to leave the door open.\"\n",
    "words = string_1.split(' ')\n",
    "print(f'문장의 단어 개수는 {len(words)}입니다.')\n",
    "\n",
    "for i in words:\n",
    "    if i in words[1::2]:\n",
    "        print(i.upper(), end=' ')\n",
    "    else:\n",
    "        print(i, end=' ')"
   ]
  },
  {
   "cell_type": "markdown",
   "metadata": {},
   "source": [
    "## 4번 문제"
   ]
  },
  {
   "cell_type": "code",
   "execution_count": 19,
   "metadata": {},
   "outputs": [
    {
     "name": "stdout",
     "output_type": "stream",
     "text": [
      "www.google.com\n"
     ]
    }
   ],
   "source": [
    "# 4번 문제\n",
    "def get_url(search):\n",
    "    urls = {'google':'www.google.com', 'naver':'www.naver.com','github':'www.github.com','daum':'www.daum.net'}\n",
    "    \n",
    "    if search in urls.keys():\n",
    "        result = urls[search]\n",
    "        return result\n",
    "    else:\n",
    "        return '다른 사이트를 검색해주세요.'\n",
    "\n",
    "url = get_url(input(\"웹사이트 주소를 출력하고 싶은 사이트를 영문으로 입력하세요.(홑따옴표 없이!) > \"))\n",
    "print(url)"
   ]
  },
  {
   "cell_type": "markdown",
   "metadata": {},
   "source": [
    "## 5번 문제"
   ]
  },
  {
   "cell_type": "code",
   "execution_count": 20,
   "metadata": {},
   "outputs": [
    {
     "name": "stdout",
     "output_type": "stream",
     "text": [
      "3단 시작\n",
      "3 6 9 12 15 18 21 24 27 "
     ]
    }
   ],
   "source": [
    "# 5번 문제\n",
    "x = int(input('출력하고싶은 구구단 번호를 입력하세요. > '))\n",
    "print(f'{x}단 시작')\n",
    "for y in range(1, 10): # 2부터 9까지 반복  \n",
    "    print(x*y, end=' ')"
   ]
  }
 ],
 "metadata": {
  "kernelspec": {
   "display_name": "Python 3",
   "language": "python",
   "name": "python3"
  },
  "language_info": {
   "codemirror_mode": {
    "name": "ipython",
    "version": 3
   },
   "file_extension": ".py",
   "mimetype": "text/x-python",
   "name": "python",
   "nbconvert_exporter": "python",
   "pygments_lexer": "ipython3",
   "version": "3.11.5"
  }
 },
 "nbformat": 4,
 "nbformat_minor": 2
}
